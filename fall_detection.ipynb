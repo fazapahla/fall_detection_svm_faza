{
 "cells": [
  {
   "cell_type": "code",
   "execution_count": 11,
   "id": "5e1b37b0-8936-4b0f-b0f0-b9645512f8f7",
   "metadata": {},
   "outputs": [],
   "source": [
    "import pandas as pd\n",
    "import numpy as np\n",
    "import pickle\n",
    "import os\n",
    "\n",
    "from sklearn import svm\n",
    "from matplotlib import pyplot as plt\n",
    "from sklearn import metrics"
   ]
  },
  {
   "cell_type": "markdown",
   "id": "052df65f-fefc-40a9-a4bc-04bf2b350e55",
   "metadata": {},
   "source": [
    "## Generate Pickle"
   ]
  },
  {
   "cell_type": "code",
   "execution_count": 25,
   "id": "6fde81b2-a194-4274-82ef-54bb6dd1ab5c",
   "metadata": {},
   "outputs": [],
   "source": [
    "data = pd.read_csv('AccXYLatest.csv')\n",
    "\n",
    "X = data.drop(['Label'], axis=1)\n",
    "Y = data.Label\n",
    "\n",
    "from sklearn.model_selection import train_test_split\n",
    "X_train, X_test, Y_train, Y_test = train_test_split(X, Y, test_size = 0.2)\n",
    "\n",
    "from sklearn.svm import SVC\n",
    "model = SVC(C = 1, gamma =  1, kernel = 'rbf')\n",
    "\n",
    "model.fit(X_train, Y_train)\n",
    "\n",
    "model.score(X_test, Y_test)\n",
    "\n",
    "with open('test.pkl', 'wb') as f:\n",
    "    pickle.dump(model, f)"
   ]
  },
  {
   "cell_type": "markdown",
   "id": "4f9be8b8-ef94-4a11-afc3-965a65900d5b",
   "metadata": {},
   "source": [
    "## Load & Test With Actual Input"
   ]
  },
  {
   "cell_type": "code",
   "execution_count": 50,
   "id": "ff7a619f-0c86-4301-95ae-c258140dc867",
   "metadata": {},
   "outputs": [],
   "source": [
    "single_row = data.loc[444].drop('Label')\n",
    "single_row_reshaped = single_row.values.reshape(1, -1)\n",
    "single_row_reshaped\n",
    "\n",
    "dummy_data = np.array([[0.99, -0.99]])  # A 2D array with 1 sample and 2 features"
   ]
  },
  {
   "cell_type": "code",
   "execution_count": 51,
   "id": "8de50e5b-3324-4361-9189-49e869107058",
   "metadata": {},
   "outputs": [
    {
     "data": {
      "text/plain": [
       "array([[ 0.99, -0.99]])"
      ]
     },
     "execution_count": 51,
     "metadata": {},
     "output_type": "execute_result"
    }
   ],
   "source": [
    "dummy_data"
   ]
  },
  {
   "cell_type": "code",
   "execution_count": 56,
   "id": "e7cda58e-3b95-4962-9372-413d644b6252",
   "metadata": {},
   "outputs": [
    {
     "name": "stdout",
     "output_type": "stream",
     "text": [
      "[1]\n"
     ]
    }
   ],
   "source": [
    "# Load the trained model from the pickle file\n",
    "with open('test.pkl', 'rb') as file:\n",
    "    model = pickle.load(file)\n",
    "    \n",
    "# Use the model for prediction or other tasks\n",
    "result = model.predict(dummy_data)\n",
    "print(result)"
   ]
  },
  {
   "cell_type": "code",
   "execution_count": 61,
   "id": "9f60283f-4ac3-4d27-a56e-d8058017564f",
   "metadata": {},
   "outputs": [],
   "source": [
    "import nest_asyncio\n",
    "nest_asyncio.apply()\n",
    "\n",
    "import asyncio\n",
    "from telegram import Bot\n",
    "\n",
    "async def send_telegram_notification(bot_token, chat_id, message):\n",
    "    bot = Bot(token=bot_token)\n",
    "    await bot.send_message(chat_id=chat_id, text=message)\n",
    "\n",
    "# Call the function when the result is 1\n",
    "if result == 1:\n",
    "    bot_token = '6348436209:AAEpBPrDZFgybb7krB4F7ddh_iM96xObQG4'  # Replace with your bot token\n",
    "    chat_id = '-884910207'  # Replace with your chat ID (can be obtained from BotFather)\n",
    "    message = 'The prediction result is 1!'\n",
    "    \n",
    "    # Run the function within an event loop\n",
    "    asyncio.run(send_telegram_notification(bot_token, chat_id, message))"
   ]
  },
  {
   "cell_type": "markdown",
   "id": "59c75c3d-1e4e-4aea-a5f1-202075060af1",
   "metadata": {},
   "source": [
    "## Send Thru Telegram"
   ]
  },
  {
   "cell_type": "code",
   "execution_count": 60,
   "id": "bc05832c-679e-4971-b91b-d4b0c72f0664",
   "metadata": {},
   "outputs": [
    {
     "name": "stdout",
     "output_type": "stream",
     "text": [
      "Requirement already satisfied: nest_asyncio in /Users/arifluthfi/opt/anaconda3/lib/python3.9/site-packages (1.5.1)\n",
      "Note: you may need to restart the kernel to use updated packages.\n"
     ]
    }
   ],
   "source": [
    "pip install nest_asyncio"
   ]
  },
  {
   "cell_type": "code",
   "execution_count": null,
   "id": "00b502bb-f15c-4303-bdc4-423211aab1df",
   "metadata": {},
   "outputs": [],
   "source": [
    "pip install python-telegram-bot"
   ]
  }
 ],
 "metadata": {
  "kernelspec": {
   "display_name": "Python 3 (ipykernel)",
   "language": "python",
   "name": "python3"
  },
  "language_info": {
   "codemirror_mode": {
    "name": "ipython",
    "version": 3
   },
   "file_extension": ".py",
   "mimetype": "text/x-python",
   "name": "python",
   "nbconvert_exporter": "python",
   "pygments_lexer": "ipython3",
   "version": "3.9.7"
  }
 },
 "nbformat": 4,
 "nbformat_minor": 5
}
